{
 "cells": [
  {
   "cell_type": "markdown",
   "metadata": {},
   "source": [
    "# Ejercicios clase 2 git\n",
    "\n",
    "Este cuaderno de python es creado con el fin de ilustrar el método de fork y pull request. "
   ]
  },
  {
   "cell_type": "markdown",
   "metadata": {},
   "source": [
    "# 1\n",
    "La sucesión de Fibonacci se define de la siguiente forma: a1=1, a2=1 y an=an-1+an-2 para n>2, es decir los dos primeros son 1 y el resto cada uno es la suma de los dos anteriores, los primeros son: 1, 1, 2, 3, 5, 8, 13, 21, ... Hacer un diagrama de flujo para calcular el Nésimo término de la sucesión.\n",
    "\n",
    "# 2 \n",
    "Elabora un programa que solicite la medida en Pies y realice la conversión a pulgadas, yardas, cm y metros. Toma en cuenta que un pie tiene 12 pulgadas y una pulgada equivale a 2.54 cm.\n",
    "\n",
    "# 3\n",
    "Escribir un programa que pregunte al usuario su nombre, edad, dirección y teléfono y lo guarde en un diccionario. Después debe mostrar por pantalla el mensaje <nombre> tiene <edad> años, vive en <dirección> y su número de teléfono es <teléfono>.\n",
    "    \n",
    "# 4\n",
    "Escribir un programa que cree un diccionario vacío y lo vaya llenado con información sobre una persona (por ejemplo nombre, edad, sexo, teléfono, correo electrónico, etc.) que se le pida al usuario. Cada vez que se añada un nuevo dato debe imprimirse el contenido del diccionario.\n",
    "    \n",
    "# 5\n",
    "Escribir una función que simule una calculadora científica que permita calcular el seno, coseno, tangente, exponencial y logaritmo neperiano. La función preguntará al usuario el valor y la función a aplicar, y mostrará por pantalla una tabla con los enteros de 1 al valor introducido y el resultado de aplicar la función a esos enteros."
   ]
  },
  {
   "cell_type": "code",
   "execution_count": 3,
   "metadata": {
    "scrolled": false
   },
   "outputs": [
    {
     "data": {
      "text/plain": [
       "['estudiante 1 ejercicio 1',\n",
       " 'estudiante 2 ejercicio 2',\n",
       " 'estudiante 3 ejercicio 3',\n",
       " 'estudiante 4 ejercicio 4',\n",
       " 'estudiante 5 ejercicio 5',\n",
       " 'estudiante 6 ejercicio 1',\n",
       " 'estudiante 7 ejercicio 2',\n",
       " 'estudiante 8 ejercicio 3',\n",
       " 'estudiante 9 ejercicio 4',\n",
       " 'estudiante 10 ejercicio 5',\n",
       " 'estudiante 11 ejercicio 1',\n",
       " 'estudiante 12 ejercicio 2',\n",
       " 'estudiante 13 ejercicio 3',\n",
       " 'estudiante 14 ejercicio 4',\n",
       " 'estudiante 15 ejercicio 5',\n",
       " 'estudiante 16 ejercicio 1',\n",
       " 'estudiante 17 ejercicio 2',\n",
       " 'estudiante 18 ejercicio 3',\n",
       " 'estudiante 19 ejercicio 4',\n",
       " 'estudiante 20 ejercicio 5',\n",
       " 'estudiante 21 ejercicio 1',\n",
       " 'estudiante 22 ejercicio 2',\n",
       " 'estudiante 23 ejercicio 3',\n",
       " 'estudiante 24 ejercicio 4',\n",
       " 'estudiante 25 ejercicio 5',\n",
       " 'estudiante 26 ejercicio 1',\n",
       " 'estudiante 27 ejercicio 2',\n",
       " 'estudiante 28 ejercicio 3',\n",
       " 'estudiante 29 ejercicio 4',\n",
       " 'estudiante 30 ejercicio 5']"
      ]
     },
     "execution_count": 3,
     "metadata": {},
     "output_type": "execute_result"
    }
   ],
   "source": [
    "# Profesor\n",
    "import numpy as np\n",
    "ejercicios = np.tile(np.arange(1,6), 6)\n",
    "estudiantes = np.arange(1, 31)\n",
    "clase = []\n",
    "\n",
    "for est, ejer in zip(estudiantes, ejercicios):\n",
    "    clase.append(f'estudiante {est} ejercicio {ejer}')\n",
    "    \n",
    "clase"
   ]
  },
  {
   "cell_type": "code",
   "execution_count": null,
   "metadata": {},
   "outputs": [],
   "source": [
    "# 1 - ejercicio 1\n",
    "# Valeria Ladrón de Guevara Vidrio\n",
    "def fibonacci(n):\n",
    "    if n < 2:\n",
    "        return n\n",
    "    if n >= 1000:\n",
    "        return (\"No se puede\")\n",
    "    else:\n",
    "        return fibonacci(n-1) + fibonacci(n-2)\n",
    "fibonacci(1000)\n",
    "        \n"
   ]
  },
  {
   "cell_type": "code",
   "execution_count": 30,
   "metadata": {},
   "outputs": [
    {
     "name": "stdout",
     "output_type": "stream",
     "text": [
      "Ingrese la medida en pies: 1\n",
      "Esta medida equivale a: \n",
      " 12.0 pulgadas \n",
      " 0.3333333333333333 yardas \n",
      " 30.48 centímetros \n",
      " 0.3048 metros\n"
     ]
    }
   ],
   "source": [
    "# 2 - ejercicio 2\n",
    "# Nombre: Mariela López\n",
    "\n",
    "pies = float(input(\"Ingrese la medida en pies: \"))\n",
    "\n",
    "pulgadas = 12 * pies\n",
    "yardas = 1/3 * pies\n",
    "cm = 2.54 * pulgadas\n",
    "m = cm / 100\n",
    "\n",
    "print(\"Esta medida equivale a: \\n\", pulgadas, \"pulgadas \\n\", yardas, \"yardas \\n\", cm, \"centímetros \\n\", m, \"metros\")"
   ]
  },
  {
   "cell_type": "code",
   "execution_count": 2,
   "metadata": {},
   "outputs": [],
   "source": [
    "# 3 - ejercicio 3\n",
    "# Nombre: PABLO Muñoz"
   ]
  },
  {
   "cell_type": "code",
   "execution_count": 3,
   "metadata": {},
   "outputs": [
    {
     "name": "stdout",
     "output_type": "stream",
     "text": [
      "Introduce tu nombre:Jose Tonatiuh\n",
      "Nombre : Jose Tonatiuh\n",
      "Introduce tu Edad:20\n",
      "Nombre : Jose Tonatiuh\n",
      "Edad : 20\n",
      "Introduce tu Sexo:Masculino\n",
      "Nombre : Jose Tonatiuh\n",
      "Edad : 20\n",
      "Sexo : Masculino\n",
      "Introduce tu Teléfono:3318370857\n",
      "Nombre : Jose Tonatiuh\n",
      "Edad : 20\n",
      "Sexo : Masculino\n",
      "Teléfono : 3318370857\n",
      "Introduce tu Correo electrónico:tona.navarro.17@gmail.com\n",
      "Nombre : Jose Tonatiuh\n",
      "Edad : 20\n",
      "Sexo : Masculino\n",
      "Teléfono : 3318370857\n",
      "Correo electrónico : tona.navarro.17@gmail.com\n"
     ]
    }
   ],
   "source": [
    "# 4 - ejercicio 4\n",
    "\n",
    "# Tonatiuh Navarro\n",
    "for i in range (1):\n",
    "    \n",
    "    informacion = {}\n",
    "    nombre = input(\"Introduce tu nombre:\")\n",
    "    informacion['Nombre'] = nombre\n",
    "    for clave, respuesta in informacion.items():\n",
    "          print (clave,':',respuesta)\n",
    "    edad = int(input(\"Introduce tu Edad:\"))\n",
    "    informacion['Edad'] = edad\n",
    "    for clave, respuesta in informacion.items():\n",
    "          print(clave, ':', respuesta)\n",
    "    sexo = input(\"Introduce tu Sexo:\")\n",
    "    informacion['Sexo'] = sexo\n",
    "    for clave, respuesta in informacion.items():\n",
    "         print(clave, ':', respuesta)\n",
    "    teléfono = int(input(\"Introduce tu Teléfono:\"))\n",
    "    informacion['Teléfono'] = teléfono\n",
    "    for clave, respuesta in informacion.items():\n",
    "          print(clave, ':', respuesta)\n",
    "    correo_electrónico = input(\"Introduce tu Correo electrónico:\")\n",
    "    informacion['Correo electrónico'] = correo_electrónico\n",
    "    for clave, respuesta in informacion.items():\n",
    "          print(clave, ':', respuesta)\n"
   ]
  },
  {
   "cell_type": "code",
   "execution_count": 68,
   "metadata": {},
   "outputs": [],
   "source": [
    "# 5 - ejercicio 5\n",
    "# Nombre: Andrés Ramírez Villanueva\n",
    "import numpy as np\n",
    "import pandas as pd\n",
    "\n",
    "def calculadora():\n",
    "    \n",
    "    print(\"Opciones:\\n 1: Seno\\n 2: Coseno\\n 3: Tangente\\n 4: Exponencial\\n 5: Logaritmo neperiano\\n \")\n",
    "    ope=int(input(\"¿Qué operación desea realizar?\"))\n",
    "    valor=int(input(\"¿Qué valor desea alcanzar?\"))\n",
    "    w=np.linspace(1,valor,valor)\n",
    "    if(ope==1):\n",
    "        tabla=pd.DataFrame(data={'Valor':w,'Resultado':np.sin(w)})\n",
    "    if(ope==2):\n",
    "        tabla=pd.DataFrame(data={'Valor':w,'Resultado':np.cos(w)})\n",
    "    if(ope==3):\n",
    "        tabla=pd.DataFrame(data={'Valor':w,'Resultado':np.tan(w)})\n",
    "    if(ope==4):\n",
    "        tabla=pd.DataFrame(data={'Valor':w,'Resultado':np.exp(w)})\n",
    "    if(ope==5):\n",
    "        tabla=pd.DataFrame(data={'Valor':w,'Resultado':np.log(w)})   \n",
    "    tabla=tabla.set_index('Valor')\n",
    "    return tabla"
   ]
  },
  {
   "cell_type": "code",
   "execution_count": 74,
   "metadata": {},
   "outputs": [
    {
     "name": "stdout",
     "output_type": "stream",
     "text": [
      "Opciones:\n",
      " 1: Seno\n",
      " 2: Coseno\n",
      " 3: Tangente\n",
      " 4: Exponencial\n",
      " 5: Logaritmo neperiano\n",
      " \n",
      "¿Qué operación desea realizar?5\n",
      "¿Qué valor desea alcanzar?10\n"
     ]
    },
    {
     "data": {
      "text/html": [
       "<div>\n",
       "<style scoped>\n",
       "    .dataframe tbody tr th:only-of-type {\n",
       "        vertical-align: middle;\n",
       "    }\n",
       "\n",
       "    .dataframe tbody tr th {\n",
       "        vertical-align: top;\n",
       "    }\n",
       "\n",
       "    .dataframe thead th {\n",
       "        text-align: right;\n",
       "    }\n",
       "</style>\n",
       "<table border=\"1\" class=\"dataframe\">\n",
       "  <thead>\n",
       "    <tr style=\"text-align: right;\">\n",
       "      <th></th>\n",
       "      <th>Resultado</th>\n",
       "    </tr>\n",
       "    <tr>\n",
       "      <th>Valor</th>\n",
       "      <th></th>\n",
       "    </tr>\n",
       "  </thead>\n",
       "  <tbody>\n",
       "    <tr>\n",
       "      <td>1.0</td>\n",
       "      <td>0.000000</td>\n",
       "    </tr>\n",
       "    <tr>\n",
       "      <td>2.0</td>\n",
       "      <td>0.693147</td>\n",
       "    </tr>\n",
       "    <tr>\n",
       "      <td>3.0</td>\n",
       "      <td>1.098612</td>\n",
       "    </tr>\n",
       "    <tr>\n",
       "      <td>4.0</td>\n",
       "      <td>1.386294</td>\n",
       "    </tr>\n",
       "    <tr>\n",
       "      <td>5.0</td>\n",
       "      <td>1.609438</td>\n",
       "    </tr>\n",
       "    <tr>\n",
       "      <td>6.0</td>\n",
       "      <td>1.791759</td>\n",
       "    </tr>\n",
       "    <tr>\n",
       "      <td>7.0</td>\n",
       "      <td>1.945910</td>\n",
       "    </tr>\n",
       "    <tr>\n",
       "      <td>8.0</td>\n",
       "      <td>2.079442</td>\n",
       "    </tr>\n",
       "    <tr>\n",
       "      <td>9.0</td>\n",
       "      <td>2.197225</td>\n",
       "    </tr>\n",
       "    <tr>\n",
       "      <td>10.0</td>\n",
       "      <td>2.302585</td>\n",
       "    </tr>\n",
       "  </tbody>\n",
       "</table>\n",
       "</div>"
      ],
      "text/plain": [
       "       Resultado\n",
       "Valor           \n",
       "1.0     0.000000\n",
       "2.0     0.693147\n",
       "3.0     1.098612\n",
       "4.0     1.386294\n",
       "5.0     1.609438\n",
       "6.0     1.791759\n",
       "7.0     1.945910\n",
       "8.0     2.079442\n",
       "9.0     2.197225\n",
       "10.0    2.302585"
      ]
     },
     "execution_count": 74,
     "metadata": {},
     "output_type": "execute_result"
    }
   ],
   "source": [
    "calculadora()"
   ]
  },
  {
   "cell_type": "code",
   "execution_count": null,
   "metadata": {},
   "outputs": [],
   "source": [
    "# 6 - ejercicio 1\n",
    "# Nombre"
   ]
  },
  {
   "cell_type": "code",
   "execution_count": null,
   "metadata": {},
   "outputs": [],
   "source": [
    "# 7 - ejercicio 2\n",
    "# Nombre"
   ]
  },
  {
   "cell_type": "code",
   "execution_count": null,
   "metadata": {},
   "outputs": [],
   "source": [
    "# 8 - ejercicio 3\n",
    "# Nombre"
   ]
  },
  {
   "cell_type": "code",
   "execution_count": null,
   "metadata": {},
   "outputs": [],
   "source": [
    "# 9 - ejercicio 4\n",
    "# Nombre"
   ]
  },
  {
   "cell_type": "code",
   "execution_count": null,
   "metadata": {},
   "outputs": [],
   "source": [
    "# 10 - ejercicio 5\n",
    "# Nombre"
   ]
  },
  {
   "cell_type": "code",
   "execution_count": 5,
   "metadata": {},
   "outputs": [],
   "source": [
    "# 11 - ejercicio 1\n",
    "# Nombre"
   ]
  },
  {
   "cell_type": "code",
   "execution_count": null,
   "metadata": {},
   "outputs": [],
   "source": [
    "# 12 - ejercicio 2\n",
    "# Nombre"
   ]
  },
  {
   "cell_type": "code",
   "execution_count": 6,
   "metadata": {},
   "outputs": [],
   "source": [
    "# 13 - ejercicio 3\n",
    "# Nombre"
   ]
  },
  {
   "cell_type": "code",
   "execution_count": null,
   "metadata": {},
   "outputs": [],
   "source": [
    "# 14 - ejercicio 4\n",
    "# Nombre"
   ]
  },
  {
   "cell_type": "code",
   "execution_count": null,
   "metadata": {},
   "outputs": [],
   "source": [
    "# 15 - ejercicio 5\n",
    "# Nombre"
   ]
  },
  {
   "cell_type": "code",
   "execution_count": null,
   "metadata": {},
   "outputs": [],
   "source": [
    "# 16 - ejercicio 1\n",
    "# Nombre"
   ]
  },
  {
   "cell_type": "code",
   "execution_count": null,
   "metadata": {},
   "outputs": [],
   "source": [
    "# 17 - ejercicio 2\n",
    "# Nombre"
   ]
  },
  {
   "cell_type": "code",
   "execution_count": null,
   "metadata": {},
   "outputs": [],
   "source": [
    "# 18  - ejercicio 3\n",
    "# Nombre"
   ]
  },
  {
   "cell_type": "code",
   "execution_count": null,
   "metadata": {},
   "outputs": [],
   "source": [
    "# 19 - ejercicio 4\n",
    "# Nombre"
   ]
  },
  {
   "cell_type": "code",
   "execution_count": null,
   "metadata": {},
   "outputs": [],
   "source": [
    "# 20 - ejercicio 5\n",
    "# Nombre"
   ]
  },
  {
   "cell_type": "code",
   "execution_count": 7,
   "metadata": {},
   "outputs": [],
   "source": [
    "# 21 - ejercicio 1\n",
    "# Nombre"
   ]
  },
  {
   "cell_type": "code",
   "execution_count": null,
   "metadata": {},
   "outputs": [],
   "source": [
    "# 22 - ejercicio 2\n",
    "# Nombre"
   ]
  },
  {
   "cell_type": "code",
   "execution_count": null,
   "metadata": {},
   "outputs": [],
   "source": [
    "# 23 - ejercicio 3\n",
    "# Nombre"
   ]
  },
  {
   "cell_type": "code",
   "execution_count": null,
   "metadata": {},
   "outputs": [],
   "source": [
    "# 24 - ejercicio 4\n",
    "# Nombre"
   ]
  },
  {
   "cell_type": "code",
   "execution_count": null,
   "metadata": {},
   "outputs": [],
   "source": [
    "# 25 - ejercicio 4\n",
    "# Nombre"
   ]
  },
  {
   "cell_type": "code",
   "execution_count": null,
   "metadata": {},
   "outputs": [],
   "source": [
    "# 26 - ejercicio 4\n",
    "# Nombre"
   ]
  },
  {
   "cell_type": "code",
   "execution_count": null,
   "metadata": {},
   "outputs": [],
   "source": [
    "# 27 - ejercicio 4\n",
    "# Nombre"
   ]
  },
  {
   "cell_type": "code",
   "execution_count": null,
   "metadata": {},
   "outputs": [],
   "source": [
    "# 28 - ejercicio 4\n",
    "# Nombre"
   ]
  },
  {
   "cell_type": "code",
   "execution_count": null,
   "metadata": {},
   "outputs": [],
   "source": [
    "# 29 - ejercicio 4\n",
    "# Nombre"
   ]
  },
  {
   "cell_type": "code",
   "execution_count": null,
   "metadata": {},
   "outputs": [],
   "source": [
    "# 30 - ejercicio 4\n",
    "# Nombre"
   ]
  }
 ],
 "metadata": {
  "kernelspec": {
   "display_name": "Python 3",
   "language": "python",
   "name": "python3"
  },
  "language_info": {
   "codemirror_mode": {
    "name": "ipython",
    "version": 3
   },
   "file_extension": ".py",
   "mimetype": "text/x-python",
   "name": "python",
   "nbconvert_exporter": "python",
   "pygments_lexer": "ipython3",
   "version": "3.8.3"
  }
 },
 "nbformat": 4,
 "nbformat_minor": 4
}
